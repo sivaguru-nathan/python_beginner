{
 "cells": [
  {
   "cell_type": "code",
   "execution_count": 1,
   "metadata": {},
   "outputs": [
    {
     "data": {
      "text/plain": [
       "5"
      ]
     },
     "execution_count": 2,
     "metadata": {},
     "output_type": "execute_result"
    }
   ],
   "source": [
    "2+3"
   ]
  },
  {
   "cell_type": "coders",
   "execution_count": 3,
   "metadata": {},
   "outputs": [
    {
     "data": {
      "text/plain": [
       "6"
      ]
     },
     "execution_count": 3,
     "metadata": {},
     "output_type": "execute_result"
    }
   ],
   "source": [
    "2*3"
   ]
  },
  {
   "cell_type": "code",
   "execution_count": 4,
   "metadata": {},
   "outputs": [
    {
     "data": {
      "text/plain": [
       "0.6666666666666666"
      ]
     },
     "execution_count": 4,
     "metadata": {},
     "output_type": "execute_result"
    }
   ],
   "source": [
    "2/3"
   ]
  },
  {
   "cell_type": "code",
   "execution_count": 5,
   "metadata": {},
   "outputs": [
    {
     "data": {
      "text/plain": [
       "1.5"
      ]
     },
     "execution_count": 5,
     "metadata": {},
     "output_type": "execute_result"
    }
   ],
   "source": [
    "3/2"
   ]
  },
  {
   "cell_type": "code",
   "execution_count": 6,
   "metadata": {},
   "outputs": [
    {
     "data": {
      "text/plain": [
       "1"
      ]
     },
     "execution_count": 6,
     "metadata": {},
     "output_type": "execute_result"
    }
   ],
   "source": [
    "3//2"
   ]
  },
  {
   "cell_type": "code",
   "execution_count": 7,
   "metadata": {},
   "outputs": [
    {
     "data": {
      "text/plain": [
       "8"
      ]
     },
     "execution_count": 7,
     "metadata": {},
     "output_type": "execute_result"
    }
   ],
   "source": [
    "2**3"
   ]
  },
  {
   "cell_type": "code",
   "execution_count": 8,
   "metadata": {},
   "outputs": [
    {
     "data": {
      "text/plain": [
       "7.0"
      ]
     },
     "execution_count": 8,
     "metadata": {},
     "output_type": "execute_result"
    }
   ],
   "source": [
    "49**(1/2)"
   ]
  },
  {
   "cell_type": "code",
   "execution_count": 9,
   "metadata": {},
   "outputs": [
    {
     "name": "stdout",
     "output_type": "stream",
     "text": [
      "abcd\n"
     ]
    }
   ],
   "source": [
    "print(\"abcd\")"
   ]
  },
  {
   "cell_type": "code",
   "execution_count": 10,
   "metadata": {},
   "outputs": [
    {
     "ename": "SyntaxError",
     "evalue": "Missing parentheses in call to 'print'. Did you mean print(\"abcd\")? (<ipython-input-10-5461cd5daea8>, line 1)",
     "output_type": "error",
     "traceback": [
      "\u001b[0;36m  File \u001b[0;32m\"<ipython-input-10-5461cd5daea8>\"\u001b[0;36m, line \u001b[0;32m1\u001b[0m\n\u001b[0;31m    print \"abcd\"\u001b[0m\n\u001b[0m               ^\u001b[0m\n\u001b[0;31mSyntaxError\u001b[0m\u001b[0;31m:\u001b[0m Missing parentheses in call to 'print'. Did you mean print(\"abcd\")?\n"
     ]
    }
   ],
   "source": [
    "print \"abcd\""
   ]
  },
  {
   "cell_type": "code",
   "execution_count": 11,
   "metadata": {},
   "outputs": [
    {
     "ename": "SyntaxError",
     "evalue": "Missing parentheses in call to 'print'. Did you mean print(c)? (<ipython-input-11-2731c6e3e5b6>, line 4)",
     "output_type": "error",
     "traceback": [
      "\u001b[0;36m  File \u001b[0;32m\"<ipython-input-11-2731c6e3e5b6>\"\u001b[0;36m, line \u001b[0;32m4\u001b[0m\n\u001b[0;31m    print c\u001b[0m\n\u001b[0m          ^\u001b[0m\n\u001b[0;31mSyntaxError\u001b[0m\u001b[0;31m:\u001b[0m Missing parentheses in call to 'print'. Did you mean print(c)?\n"
     ]
    }
   ],
   "source": [
    "a=5\n",
    "b=6\n",
    "c=a+b\n",
    "print c"
   ]
  },
  {
   "cell_type": "code",
   "execution_count": 12,
   "metadata": {},
   "outputs": [
    {
     "name": "stdout",
     "output_type": "stream",
     "text": [
      "11\n"
     ]
    }
   ],
   "source": [
    "a=5\n",
    "b=6\n",
    "c=a+b\n",
    "print (c)"
   ]
  },
  {
   "cell_type": "code",
   "execution_count": 13,
   "metadata": {},
   "outputs": [
    {
     "name": "stdout",
     "output_type": "stream",
     "text": [
      "sivaguru\n"
     ]
    }
   ],
   "source": [
    "a= \"siva\"\n",
    "b=\"guru\"\n",
    "print(a+b)"
   ]
  },
  {
   "cell_type": "code",
   "execution_count": 14,
   "metadata": {},
   "outputs": [
    {
     "name": "stdout",
     "output_type": "stream",
     "text": [
      "54\n"
     ]
    }
   ],
   "source": [
    "a=\"5\"\n",
    "b=\"4\"\n",
    "print(a+b)"
   ]
  },
  {
   "cell_type": "code",
   "execution_count": 15,
   "metadata": {},
   "outputs": [
    {
     "name": "stdout",
     "output_type": "stream",
     "text": [
      "siva siva siva siva siva \n"
     ]
    }
   ],
   "source": [
    "a = \"siva \"\n",
    "b = 5\n",
    "print(a*b)"
   ]
  },
  {
   "cell_type": "code",
   "execution_count": 19,
   "metadata": {},
   "outputs": [
    {
     "name": "stdout",
     "output_type": "stream",
     "text": [
      "6 4 10 2.5 sivasivasiva\n"
     ]
    }
   ],
   "source": [
    "#INPLACE OPERATOR\n",
    "a = 5\n",
    "b = 5\n",
    "c= 5\n",
    "d=5\n",
    "e = \"siva\"\n",
    "a+=1\n",
    "b-=1\n",
    "c*=2\n",
    "d/=2\n",
    "e*=3\n",
    "print(a,b,c,d,e)\n"
   ]
  },
  {
   "cell_type": "code",
   "execution_count": 20,
   "metadata": {},
   "outputs": [
    {
     "name": "stdout",
     "output_type": "stream",
     "text": [
      "enter the value25\n",
      "25\n"
     ]
    }
   ],
   "source": [
    "#input at the runtime\n",
    "a=input(\"enter the value\")\n",
    "print (a)"
   ]
  },
  {
   "cell_type": "code",
   "execution_count": 21,
   "metadata": {},
   "outputs": [
    {
     "name": "stdout",
     "output_type": "stream",
     "text": [
      "enter the a value23\n",
      "enter the b value23\n",
      "2323\n"
     ]
    }
   ],
   "source": [
    "a=input(\"enter the a value\")\n",
    "b=input(\"enter the b value\")\n",
    "print(a+b)\n"
   ]
  },
  {
   "cell_type": "markdown",
   "metadata": {},
   "source": [
    "#input at the runt time are stored as string"
   ]
  },
  {
   "cell_type": "code",
   "execution_count": 23,
   "metadata": {},
   "outputs": [
    {
     "name": "stdout",
     "output_type": "stream",
     "text": [
      "enter the a value12\n",
      "enter the b value13\n",
      "sum is\t 25\n"
     ]
    }
   ],
   "source": [
    "a=int(input(\"enter the a value\"))\n",
    "b=int(input(\"enter the b value\"))\n",
    "print (\"sum is\\t\",a+b)"
   ]
  },
  {
   "cell_type": "code",
   "execution_count": 1,
   "metadata": {},
   "outputs": [
    {
     "name": "stdout",
     "output_type": "stream",
     "text": [
      "enter the number6\n",
      "number is even\n"
     ]
    }
   ],
   "source": [
    "#if else\n",
    "a = int(input(\"enter the number\"))\n",
    "if a%2==0:print(\"number is even\")\n",
    "else : print(\"number is odd\")"
   ]
  },
  {
   "cell_type": "code",
   "execution_count": 2,
   "metadata": {},
   "outputs": [
    {
     "name": "stdout",
     "output_type": "stream",
     "text": [
      "enter the mark75\n",
      "b\n"
     ]
    }
   ],
   "source": [
    "#elif\n",
    "a = int(input(\"enter the mark\"))\n",
    "if a>90:\n",
    "    print('s')\n",
    "elif a>80:\n",
    "    print('a')\n",
    "elif a>70:\n",
    "    print('b')\n",
    "elif a>60:\n",
    "    print('c')\n",
    "elif a>50:\n",
    "    print('d')\n",
    "else : print('u')\n",
    "\n"
   ]
  },
  {
   "cell_type": "code",
   "execution_count": 3,
   "metadata": {},
   "outputs": [
    {
     "name": "stdout",
     "output_type": "stream",
     "text": [
      "['ab', 'bc', 'cd', 'de']\n",
      "['ab', 'bc', 'cd', 'de', 1, 2, 3, 4, 5]\n",
      "['ab', 'bc', 'cd', 'de', 'ab', 'bc', 'cd', 'de', 'ab', 'bc', 'cd', 'de']\n",
      "de\n",
      "ed\n"
     ]
    }
   ],
   "source": [
    "#list operation\n",
    "a = ['ab','bc','cd','de']\n",
    "b = [1,2,3,4,5]\n",
    "print(a)#print the full list\n",
    "print(a+b)#adding the list\n",
    "print(a*3)#multiplying the list\n",
    "print(a[3])#print specific item\n",
    "a[3]='ed'#replace\n",
    "print(a[3])"
   ]
  },
  {
   "cell_type": "code",
   "execution_count": 4,
   "metadata": {},
   "outputs": [
    {
     "name": "stdout",
     "output_type": "stream",
     "text": [
      "['ab', 'bc', 'cd', 'de']\n",
      "['ab', 'bc', 'cd', 'de', 'ef']\n",
      "5\n"
     ]
    },
    {
     "ename": "TypeError",
     "evalue": "'str' object cannot be interpreted as an integer",
     "output_type": "error",
     "traceback": [
      "\u001b[0;31m---------------------------------------------------------------------------\u001b[0m",
      "\u001b[0;31mTypeError\u001b[0m                                 Traceback (most recent call last)",
      "\u001b[0;32m<ipython-input-4-cb5aaf99d12f>\u001b[0m in \u001b[0;36m<module>\u001b[0;34m()\u001b[0m\n\u001b[1;32m      5\u001b[0m \u001b[0mprint\u001b[0m\u001b[0;34m(\u001b[0m\u001b[0ma\u001b[0m\u001b[0;34m)\u001b[0m\u001b[0;34m\u001b[0m\u001b[0m\n\u001b[1;32m      6\u001b[0m \u001b[0mprint\u001b[0m\u001b[0;34m(\u001b[0m\u001b[0mlen\u001b[0m\u001b[0;34m(\u001b[0m\u001b[0ma\u001b[0m\u001b[0;34m)\u001b[0m\u001b[0;34m)\u001b[0m\u001b[0;31m#print length of the list\u001b[0m\u001b[0;34m\u001b[0m\u001b[0m\n\u001b[0;32m----> 7\u001b[0;31m \u001b[0ma\u001b[0m\u001b[0;34m.\u001b[0m\u001b[0minsert\u001b[0m\u001b[0;34m(\u001b[0m\u001b[0;34m'bb'\u001b[0m\u001b[0;34m,\u001b[0m\u001b[0;36m1\u001b[0m\u001b[0;34m)\u001b[0m\u001b[0;34m\u001b[0m\u001b[0m\n\u001b[0m\u001b[1;32m      8\u001b[0m \u001b[0mprint\u001b[0m \u001b[0;34m(\u001b[0m\u001b[0ma\u001b[0m\u001b[0;34m)\u001b[0m\u001b[0;34m\u001b[0m\u001b[0m\n\u001b[1;32m      9\u001b[0m \u001b[0mprint\u001b[0m\u001b[0;34m(\u001b[0m\u001b[0ma\u001b[0m\u001b[0;34m.\u001b[0m\u001b[0mindex\u001b[0m\u001b[0;34m(\u001b[0m\u001b[0;34m\"cd\"\u001b[0m\u001b[0;34m)\u001b[0m\u001b[0;34m)\u001b[0m\u001b[0;34m\u001b[0m\u001b[0m\n",
      "\u001b[0;31mTypeError\u001b[0m: 'str' object cannot be interpreted as an integer"
     ]
    }
   ],
   "source": [
    "#list operation\n",
    "a = ['ab','bc','cd','de']\n",
    "print(a)\n",
    "a.append('ef')#adding new member in the list\n",
    "print(a)\n",
    "print(len(a))#print length of the list\n",
    "a.insert('bb',1)\n",
    "print (a)\n",
    "print(a.index(\"cd\"))"
   ]
  },
  {
   "cell_type": "code",
   "execution_count": 5,
   "metadata": {},
   "outputs": [
    {
     "name": "stdout",
     "output_type": "stream",
     "text": [
      "['ab', 'bc', 'cd', 'de']\n",
      "['ab', 'bc', 'cd', 'de', 'ef']\n",
      "5\n",
      "['ab', 'bb', 'bc', 'cd', 'de', 'ef']\n",
      "3\n"
     ]
    }
   ],
   "source": [
    "#list funtion\n",
    "a = ['ab','bc','cd','de']\n",
    "print(a)\n",
    "a.append('ef')#adding new member in the list\n",
    "print(a)\n",
    "print(len(a))#print length of the list\n",
    "a.insert(1,'bb')\n",
    "print (a)\n",
    "print(a.index(\"cd\"))"
   ]
  },
  {
   "cell_type": "code",
   "execution_count": 1,
   "metadata": {},
   "outputs": [
    {
     "name": "stdout",
     "output_type": "stream",
     "text": [
      "True\n",
      "False\n"
     ]
    }
   ],
   "source": [
    "#in operator\n",
    "a = [1,2,3,4,5]\n",
    "print(1 in a)\n",
    "print(6 in a)"
   ]
  },
  {
   "cell_type": "code",
   "execution_count": 3,
   "metadata": {},
   "outputs": [
    {
     "name": "stdout",
     "output_type": "stream",
     "text": [
      "[0, 1, 2, 3, 4, 5, 6, 7, 8, 9] [5, 6, 7, 8, 9] [0, 2, 4, 6, 8]\n"
     ]
    }
   ],
   "source": [
    "#range function\n",
    "# range (start,end,intervel)\n",
    "a = list(range(10))#range upto 10\n",
    "b = list(range(5,10))#range from 5 to 10\n",
    "c = list(range(0,10,2))#range from 0 to 10 with intervel 2\n",
    "print(a,b,c)"
   ]
  },
  {
   "cell_type": "code",
   "execution_count": 5,
   "metadata": {},
   "outputs": [
    {
     "name": "stdout",
     "output_type": "stream",
     "text": [
      "1\n",
      "2\n",
      "3\n",
      "4\n",
      "5\n",
      "6\n",
      "7\n",
      "8\n",
      "9\n",
      "1\n",
      "6\n",
      "7\n",
      "0\n",
      "3\n"
     ]
    }
   ],
   "source": [
    "#for loop\n",
    "for x in range(1,10):\n",
    "    print(x)\n",
    "a = [1,6,7,0,3]\n",
    "for y in a:\n",
    "    print(y)"
   ]
  },
  {
   "cell_type": "code",
   "execution_count": 1,
   "metadata": {},
   "outputs": [
    {
     "name": "stdout",
     "output_type": "stream",
     "text": [
      "0\n",
      "1\n",
      "2\n",
      "3\n",
      "4\n",
      "5\n",
      "6\n",
      "7\n",
      "8\n",
      "9\n",
      "10\n"
     ]
    }
   ],
   "source": [
    "#while loop\n",
    "count=0\n",
    "while (count<=10):\n",
    "    print(count)\n",
    "    count+=1"
   ]
  },
  {
   "cell_type": "code",
   "execution_count": 30,
   "metadata": {},
   "outputs": [
    {
     "name": "stdout",
     "output_type": "stream",
     "text": [
      "user nameshashti\n",
      "passwordguru\n",
      "user name or passwor is wrong\n"
     ]
    }
   ],
   "source": [
    "#and or\n",
    "a = input('user name')\n",
    "b = input('password')\n",
    "if a=='siva' and b=='guru':\n",
    "    print ('valid user')\n",
    "elif a=='siva' or b=='guru':\n",
    "    print ('user name or passwor is wrong')\n",
    "    "
   ]
  },
  {
   "cell_type": "code",
   "execution_count": 8,
   "metadata": {},
   "outputs": [
    {
     "name": "stdout",
     "output_type": "stream",
     "text": [
      "acbdefgh\n",
      "acbdefgh\n"
     ]
    }
   ],
   "source": [
    "#funtion\n",
    "def abc():\n",
    "    print('acbdefgh')\n",
    "abc()\n",
    "abc()"
   ]
  },
  {
   "cell_type": "code",
   "execution_count": 2,
   "metadata": {},
   "outputs": [
    {
     "name": "stdout",
     "output_type": "stream",
     "text": [
      "3\n",
      "5\n",
      "8\n"
     ]
    }
   ],
   "source": [
    "##function with arguments\n",
    "def add(a,b):\n",
    "   \n",
    "    print(a+b)\n",
    "add(int(input()),int(input()))"
   ]
  },
  {
   "cell_type": "code",
   "execution_count": 3,
   "metadata": {},
   "outputs": [
    {
     "name": "stdout",
     "output_type": "stream",
     "text": [
      "2\n",
      "3\n",
      "5\n"
     ]
    }
   ],
   "source": [
    "#function with return value\n",
    "def add():\n",
    "    a = int(input())\n",
    "    b = int(input())\n",
    "    return(a+b)\n",
    "print(add())"
   ]
  },
  {
   "cell_type": "code",
   "execution_count": 16,
   "metadata": {},
   "outputs": [
    {
     "name": "stdout",
     "output_type": "stream",
     "text": [
      "enter the radius12\n",
      "452.16\n"
     ]
    }
   ],
   "source": [
    "#funtion with function passing as arguments\n",
    "def area(a):\n",
    "    c = 3.14*a\n",
    "    print(c)\n",
    "def radius():\n",
    "  \n",
    "    return((int(input(\"enter the radius\")))**2)\n",
    "area (radius())"
   ]
  },
  {
   "cell_type": "code",
   "execution_count": 13,
   "metadata": {},
   "outputs": [
    {
     "name": "stdout",
     "output_type": "stream",
     "text": [
      "5\n"
     ]
    },
    {
     "data": {
      "text/plain": [
       "120"
      ]
     },
     "execution_count": 13,
     "metadata": {},
     "output_type": "execute_result"
    }
   ],
   "source": [
    "#function recursion \n",
    "def fact(a):\n",
    "    if a==1:\n",
    "        return a\n",
    "    else:\n",
    "        return a*fact(a-1)\n",
    "fact(int(input()))"
   ]
  },
  {
   "cell_type": "code",
   "execution_count": 4,
   "metadata": {},
   "outputs": [
    {
     "name": "stdout",
     "output_type": "stream",
     "text": [
      "5\n",
      "4\n",
      "3\n",
      "2\n",
      "1\n",
      "blast\n"
     ]
    }
   ],
   "source": [
    "#count down\n",
    "def count(a):\n",
    "    if a==0:\n",
    "        print(\"blast\")\n",
    "    else:\n",
    "        print(a)\n",
    "        count(a-1)\n",
    "        \n",
    "count(5)"
   ]
  },
  {
   "cell_type": "code",
   "execution_count": 1,
   "metadata": {},
   "outputs": [
    {
     "name": "stdout",
     "output_type": "stream",
     "text": [
      "zero division error\n"
     ]
    }
   ],
   "source": [
    "#error exeception\n",
    "try:\n",
    "    a=15\n",
    "    b=4\n",
    "    print(a/b)\n",
    "except ZeroDivisionError:\n",
    "    print(\"zero division error\")\n"
   ]
  },
  {
   "cell_type": "code",
   "execution_count": 2,
   "metadata": {},
   "outputs": [
    {
     "name": "stdout",
     "output_type": "stream",
     "text": [
      "3.75\n"
     ]
    }
   ],
   "source": [
    "try:\n",
    "    a=15\n",
    "    b=4\n",
    "    print(a/b)\n",
    "except ZeroDivisionError:\n",
    "    print(\"zero division error\")"
   ]
  },
  {
   "cell_type": "code",
   "execution_count": 3,
   "metadata": {},
   "outputs": [
    {
     "name": "stdout",
     "output_type": "stream",
     "text": [
      "3.75\n",
      "addition:  19\n"
     ]
    }
   ],
   "source": [
    "#error exeception finaly block\n",
    "try:\n",
    "    a=15\n",
    "    b=4\n",
    "    print(a/b)\n",
    "except ZeroDivisionError:\n",
    "    print(\"zero division error\")\n",
    "finally:#execute normally no matter what\n",
    "    print(\"addition: \",a+b)"
   ]
  },
  {
   "cell_type": "code",
   "execution_count": 2,
   "metadata": {},
   "outputs": [],
   "source": [
    "#write a file\n",
    "file=open(\"loosu.txt\",'w')\n",
    "file.write(\"abcdefgh\")#overwrite\n",
    "file.close()"
   ]
  },
  {
   "cell_type": "code",
   "execution_count": 10,
   "metadata": {},
   "outputs": [
    {
     "name": "stdout",
     "output_type": "stream",
     "text": [
      "abcde\n",
      "fgh\n"
     ]
    }
   ],
   "source": [
    "#read a file\n",
    "file = open(\"loosu.txt\",'r')\n",
    "a=file.read(5)#read up to 4 character\n",
    "b=file.read()#once readed cant read next time\n",
    "print(a)\n",
    "print(b)\n",
    "file.close()"
   ]
  },
  {
   "cell_type": "code",
   "execution_count": 11,
   "metadata": {},
   "outputs": [],
   "source": [
    "#append text to a file\n",
    "file = open(\"loosu.txt\",\"a\")\n",
    "file.write(\"ijklamnop\")\n",
    "file.close()"
   ]
  },
  {
   "cell_type": "code",
   "execution_count": 15,
   "metadata": {},
   "outputs": [
    {
     "name": "stdout",
     "output_type": "stream",
     "text": [
      "abcdefghijklamnop\n",
      "\n"
     ]
    }
   ],
   "source": [
    "file = open(\"loosu.txt\",'r')\n",
    "a=file.readline()#read first line\n",
    "\n",
    "print(a)\n",
    "\n",
    "file.close()"
   ]
  },
  {
   "cell_type": "code",
   "execution_count": 22,
   "metadata": {},
   "outputs": [
    {
     "name": "stdout",
     "output_type": "stream",
     "text": [
      "{'siva': 22, 'guru': 23, 'nathan': 24}\n",
      "22\n",
      "23\n"
     ]
    }
   ],
   "source": [
    "#dictionaries\n",
    "a={\"siva\":22,\"guru\":23,\"nathan\":24}#key:value\n",
    "print (a)\n",
    "print (a[\"siva\"])\n",
    "print(a.get(\"guru\"))#other way to call value\n"
   ]
  },
  {
   "cell_type": "code",
   "execution_count": 24,
   "metadata": {},
   "outputs": [
    {
     "name": "stdout",
     "output_type": "stream",
     "text": [
      "('erma', 'saani', 'hi', 'aunty')\n",
      "saani hi\n"
     ]
    },
    {
     "ename": "TypeError",
     "evalue": "'tuple' object does not support item assignment",
     "output_type": "error",
     "traceback": [
      "\u001b[0;31m---------------------------------------------------------------------------\u001b[0m",
      "\u001b[0;31mTypeError\u001b[0m                                 Traceback (most recent call last)",
      "\u001b[0;32m<ipython-input-24-27ec475a90a8>\u001b[0m in \u001b[0;36m<module>\u001b[0;34m()\u001b[0m\n\u001b[1;32m      3\u001b[0m \u001b[0mprint\u001b[0m\u001b[0;34m(\u001b[0m\u001b[0ma\u001b[0m\u001b[0;34m)\u001b[0m\u001b[0;34m\u001b[0m\u001b[0m\n\u001b[1;32m      4\u001b[0m \u001b[0mprint\u001b[0m\u001b[0;34m(\u001b[0m\u001b[0ma\u001b[0m\u001b[0;34m[\u001b[0m\u001b[0;36m1\u001b[0m\u001b[0;34m]\u001b[0m\u001b[0;34m,\u001b[0m\u001b[0ma\u001b[0m\u001b[0;34m[\u001b[0m\u001b[0;36m2\u001b[0m\u001b[0;34m]\u001b[0m\u001b[0;34m)\u001b[0m\u001b[0;34m\u001b[0m\u001b[0m\n\u001b[0;32m----> 5\u001b[0;31m \u001b[0ma\u001b[0m\u001b[0;34m[\u001b[0m\u001b[0;36m2\u001b[0m\u001b[0;34m]\u001b[0m\u001b[0;34m=\u001b[0m\u001b[0;34m\"saani2\"\u001b[0m\u001b[0;34m\u001b[0m\u001b[0m\n\u001b[0m",
      "\u001b[0;31mTypeError\u001b[0m: 'tuple' object does not support item assignment"
     ]
    }
   ],
   "source": [
    "#tuple - cannot change the value once stored\n",
    "a=(\"erma\", \"saani\",\"hi\",\"aunty\")\n",
    "print(a)\n",
    "print(a[1],a[2])\n",
    "a[2]=\"saani2\"#cant redeclare it"
   ]
  },
  {
   "cell_type": "code",
   "execution_count": 31,
   "metadata": {},
   "outputs": [
    {
     "name": "stdout",
     "output_type": "stream",
     "text": [
      "[2, 3, 4, 5]\n",
      "[0, 1, 2, 3, 4]\n",
      "[5, 6, 7, 8, 9]\n",
      "[0, 2, 4, 6, 8]\n"
     ]
    }
   ],
   "source": [
    "#list slicing\n",
    "l=[0,1,2,3,4,5,6,7,8,9]\n",
    "print(l[2:6])#slice 2 to 5\n",
    "print (l[:5])#slice before 5\n",
    "print(l[5:])#slice after 5\n",
    "print(l[0:9:2])#slice with intervel 2"
   ]
  },
  {
   "cell_type": "code",
   "execution_count": 32,
   "metadata": {},
   "outputs": [
    {
     "name": "stdout",
     "output_type": "stream",
     "text": [
      "[0, 1, 2, 3, 4, 5, 6, 7, 8, 9] [0, 1, 4, 9, 16, 25, 36, 49, 64, 81] [0, 2, 4, 6, 8]\n"
     ]
    }
   ],
   "source": [
    "l=[x for x in range(10)]#list 0 to 9\n",
    "a=[x**2 for x in range(10)]#list square of num from 0 to 9\n",
    "b=[x for x in range(10) if x%2==0]#list even numbers\n",
    "print(l,a,b)"
   ]
  },
  {
   "cell_type": "code",
   "execution_count": 49,
   "metadata": {},
   "outputs": [
    {
     "name": "stdout",
     "output_type": "stream",
     "text": [
      "the even number in the list a is 2,4\n",
      "add 5 + 6 = 11\n"
     ]
    }
   ],
   "source": [
    "#formating the strings\n",
    "a=[1,2,3,4]\n",
    "print(\"the even number in the list a is {0},{1}\".format(a[1],a[3]))\n",
    "print(\"add {x} + {y} =\".format(x = 5,y = 6), 5+6)"
   ]
  },
  {
   "cell_type": "code",
   "execution_count": 11,
   "metadata": {},
   "outputs": [
    {
     "name": "stdout",
     "output_type": "stream",
     "text": [
      "boss,loose,mental\n",
      "hello python\n",
      "HELLO WORLD\n",
      "hello world\n"
     ]
    }
   ],
   "source": [
    "#join and replace function\n",
    "a = [\"boss\",\"loose\",\"mental\"]\n",
    "b=\"hello world\"\n",
    "print(','.join(a))\n",
    "print(b.replace(\"world\",\"python\"))\n",
    "print(b.upper())\n",
    "print(b.lower())"
   ]
  },
  {
   "cell_type": "code",
   "execution_count": 17,
   "metadata": {},
   "outputs": [
    {
     "name": "stdout",
     "output_type": "stream",
     "text": [
      "6 1 23.56\n"
     ]
    }
   ],
   "source": [
    "#numeric function\n",
    "a=1,2,3,4,5,6\n",
    "b=-23.56\n",
    "print(max(a),min(a),abs(b))"
   ]
  },
  {
   "cell_type": "code",
   "execution_count": 19,
   "metadata": {},
   "outputs": [
    {
     "name": "stdout",
     "output_type": "stream",
     "text": [
      "4\n"
     ]
    }
   ],
   "source": [
    "#lambda \n",
    "a=(lambda x:x*2)(2)\n",
    "print (a)"
   ]
  },
  {
   "cell_type": "code",
   "execution_count": 23,
   "metadata": {},
   "outputs": [
    {
     "name": "stdout",
     "output_type": "stream",
     "text": [
      "[2, 3, 4, 5, 6, 7, 8, 9, 10, 11, 12, 13, 14, 15, 16]\n"
     ]
    }
   ],
   "source": [
    "#map in list\n",
    "a=[x for x in range (15)]\n",
    "print(list(map((lambda x:x+2),a)))#adding 2 to all numbers in the list\n"
   ]
  },
  {
   "cell_type": "code",
   "execution_count": 16,
   "metadata": {},
   "outputs": [
    {
     "name": "stdout",
     "output_type": "stream",
     "text": [
      "[1, 3, 5, 7, 9, 11, 13]\n"
     ]
    }
   ],
   "source": [
    "#filters\n",
    "a=[x for x in range (15)]\n",
    "print(list(filter((lambda x:x%2),a)))#filters the odd numbers"
   ]
  },
  {
   "cell_type": "code",
   "execution_count": 29,
   "metadata": {},
   "outputs": [
    {
     "name": "stdout",
     "output_type": "stream",
     "text": [
      "[1, 2, 4, 5, 7, 8, 10, 11, 13, 14, 16, 17, 19]\n"
     ]
    }
   ],
   "source": [
    "#generators - to create list\n",
    "def func():\n",
    "    for i in range (20):\n",
    "        if i%3!=0:\n",
    "            yield i\n",
    "        \n",
    "print(list(func()))"
   ]
  },
  {
   "cell_type": "code",
   "execution_count": null,
   "metadata": {},
   "outputs": [],
   "source": []
  },
  {
   "cell_type": "code",
   "execution_count": 3,
   "metadata": {},
   "outputs": [
    {
     "name": "stdout",
     "output_type": "stream",
     "text": [
      "0\n",
      "1\n",
      "2\n",
      "3\n",
      "4\n",
      "5\n",
      "6\n",
      "7\n",
      "8\n",
      "9\n",
      "10\n"
     ]
    }
   ],
   "source": [
    "#itertools module\n",
    "from itertools import count\n",
    "def func(x):\n",
    "    for i in count():#count funtion count to infinity\n",
    "        print(i)\n",
    "        if i==x:\n",
    "            break\n",
    "func(10)"
   ]
  },
  {
   "cell_type": "code",
   "execution_count": 26,
   "metadata": {},
   "outputs": [
    {
     "name": "stdout",
     "output_type": "stream",
     "text": [
      "[0, 1, 3, 6, 10, 15, 21, 28, 36, 45] [0, 1, 3, 6, 10, 15, 21]\n"
     ]
    }
   ],
   "source": [
    "from itertools import accumulate,takewhile\n",
    "a=list(accumulate(range(10)))\n",
    "b=list(takewhile(lambda x:x<25,a))\n",
    "print(a,b)"
   ]
  },
  {
   "cell_type": "code",
   "execution_count": 36,
   "metadata": {},
   "outputs": [
    {
     "name": "stdout",
     "output_type": "stream",
     "text": [
      "{1, 3, 5, 6, 7, 8} {1, 2, 3, 4, 5, 6, 7, 8} {1, 3, 5, 6} {8, 7}\n"
     ]
    }
   ],
   "source": [
    "#sets\n",
    "a={1,5,6,7,3,9}\n",
    "b={1,2,3,4,5,6}\n",
    "a.add(8)\n",
    "a.remove(9)\n",
    "print(a,a|b,a&b,a-b)"
   ]
  },
  {
   "cell_type": "code",
   "execution_count": 12,
   "metadata": {},
   "outputs": [
    {
     "name": "stdout",
     "output_type": "stream",
     "text": [
      "Name = shashti \n",
      "Age = 23 \n",
      "language = tamil\n"
     ]
    }
   ],
   "source": [
    "#class and objects\n",
    "#noun-name\n",
    "#objective-attribute\n",
    "#verb-methods\n",
    "class Student:#class declaration - first letter of name must be in CAPS\n",
    "    name=\"shashti\"#attributes\n",
    "    age=23\n",
    "    language=\"tamil\"\n",
    "    def Printdetails(self):#methods\n",
    "        print(\"Name = {a} \\nAge = {b} \\nlanguage = {c}\".format(a=self.name,b=self.age,c=self.language))#calling attributes in methods\n",
    "std1=Student()#object declration\n",
    "std1.Printdetails()#function calling"
   ]
  },
  {
   "cell_type": "code",
   "execution_count": 14,
   "metadata": {},
   "outputs": [
    {
     "name": "stdout",
     "output_type": "stream",
     "text": [
      "class attribute 8 8\n",
      "changing class ttributes 10 10\n",
      "12 10\n",
      "shashti siva\n"
     ]
    }
   ],
   "source": [
    "#class attributes and instance attributes\n",
    "class Employee:\n",
    "    workinghour=8#class attribute\n",
    "emp1=Employee()\n",
    "emp2=Employee()\n",
    "print(\"class attribute\",emp1.workinghour,emp2.workinghour)\n",
    "Employee.workinghour=10#cchanging class attributes\n",
    "print(\"changing class ttributes\",emp1.workinghour,emp2.workinghour)\n",
    "emp1.workinghour=12#instance attributes\n",
    "print(emp1.workinghour,emp2.workinghour)\n",
    "emp1.name=\"shashti\"#instance attributes\n",
    "emp2.name=\"siva\"\n",
    "print(emp1.name,emp2.name)"
   ]
  },
  {
   "cell_type": "code",
   "execution_count": 17,
   "metadata": {},
   "outputs": [
    {
     "ename": "AttributeError",
     "evalue": "'Employee' object has no attribute 'detail'",
     "output_type": "error",
     "traceback": [
      "\u001b[1;31m---------------------------------------------------------------------------\u001b[0m",
      "\u001b[1;31mAttributeError\u001b[0m                            Traceback (most recent call last)",
      "\u001b[1;32m<ipython-input-17-041d0856035b>\u001b[0m in \u001b[0;36m<module>\u001b[1;34m()\u001b[0m\n\u001b[0;32m      4\u001b[0m         \u001b[1;32mpass\u001b[0m\u001b[1;31m#do nothing\u001b[0m\u001b[1;33m\u001b[0m\u001b[0m\n\u001b[0;32m      5\u001b[0m \u001b[0memp\u001b[0m\u001b[1;33m=\u001b[0m\u001b[0mEmployee\u001b[0m\u001b[1;33m(\u001b[0m\u001b[1;33m)\u001b[0m\u001b[1;33m\u001b[0m\u001b[0m\n\u001b[1;32m----> 6\u001b[1;33m \u001b[0memp\u001b[0m\u001b[1;33m.\u001b[0m\u001b[0mdetail\u001b[0m\u001b[1;33m(\u001b[0m\u001b[1;33m)\u001b[0m\u001b[1;33m\u001b[0m\u001b[0m\n\u001b[0m\u001b[0;32m      7\u001b[0m \u001b[1;33m\u001b[0m\u001b[0m\n",
      "\u001b[1;31mAttributeError\u001b[0m: 'Employee' object has no attribute 'detail'"
     ]
    }
   ],
   "source": [
    "#self\n",
    "class Employee:\n",
    "    def details():#without self\n",
    "        pass#do nothing\n",
    "emp=Employee()\n",
    "emp.detail()\n",
    "        "
   ]
  },
  {
   "cell_type": "code",
   "execution_count": 18,
   "metadata": {},
   "outputs": [
    {
     "name": "stdout",
     "output_type": "stream",
     "text": [
      "siva 22\n",
      "siva 22\n"
     ]
    }
   ],
   "source": [
    "#self\n",
    "class Employee:\n",
    "    def details(self):\n",
    "        self.name=\"siva\"#instance attribute ,can be called all methods of a class\n",
    "        age=22#only used in this method\n",
    "        print(self.name,age)\n",
    "emp=Employee()\n",
    "emp.details()\n",
    "Employee.details(emp)#other way of calling"
   ]
  },
  {
   "cell_type": "code",
   "execution_count": 21,
   "metadata": {},
   "outputs": [
    {
     "name": "stdout",
     "output_type": "stream",
     "text": [
      "siva\n",
      "siva\n"
     ]
    }
   ],
   "source": [
    "#instant methods static methods\n",
    "class Employee:\n",
    "    def details1(self):\n",
    "        self.name=\"siva\"\n",
    "        print(self.name)\n",
    "    @staticmethod#used when no need of self parameters\n",
    "    def details():\n",
    "        name=\"siva\"\n",
    "        print(name)\n",
    "emp=Employee()\n",
    "emp.details1()\n",
    "emp.details()\n",
    "    "
   ]
  },
  {
   "cell_type": "code",
   "execution_count": 25,
   "metadata": {},
   "outputs": [
    {
     "ename": "AttributeError",
     "evalue": "'Employee' object has no attribute 'name'",
     "output_type": "error",
     "traceback": [
      "\u001b[1;31m---------------------------------------------------------------------------\u001b[0m",
      "\u001b[1;31mAttributeError\u001b[0m                            Traceback (most recent call last)",
      "\u001b[1;32m<ipython-input-25-fe282556eb4b>\u001b[0m in \u001b[0;36m<module>\u001b[1;34m()\u001b[0m\n\u001b[0;32m      6\u001b[0m         \u001b[0mprint\u001b[0m\u001b[1;33m(\u001b[0m\u001b[0mself\u001b[0m\u001b[1;33m.\u001b[0m\u001b[0mname\u001b[0m\u001b[1;33m)\u001b[0m\u001b[1;33m\u001b[0m\u001b[0m\n\u001b[0;32m      7\u001b[0m \u001b[0memp\u001b[0m\u001b[1;33m=\u001b[0m\u001b[0mEmployee\u001b[0m\u001b[1;33m(\u001b[0m\u001b[1;33m)\u001b[0m\u001b[1;33m\u001b[0m\u001b[0m\n\u001b[1;32m----> 8\u001b[1;33m \u001b[0memp\u001b[0m\u001b[1;33m.\u001b[0m\u001b[0mprinting\u001b[0m\u001b[1;33m(\u001b[0m\u001b[1;33m)\u001b[0m\u001b[1;31m#calling 2 method without 1st willbe in error\u001b[0m\u001b[1;33m\u001b[0m\u001b[0m\n\u001b[0m\u001b[0;32m      9\u001b[0m \u001b[1;33m\u001b[0m\u001b[0m\n",
      "\u001b[1;32m<ipython-input-25-fe282556eb4b>\u001b[0m in \u001b[0;36mprinting\u001b[1;34m(self)\u001b[0m\n\u001b[0;32m      4\u001b[0m         \u001b[0mself\u001b[0m\u001b[1;33m.\u001b[0m\u001b[0mname\u001b[0m\u001b[1;33m=\u001b[0m\u001b[1;34m\"siva\"\u001b[0m\u001b[1;33m\u001b[0m\u001b[0m\n\u001b[0;32m      5\u001b[0m     \u001b[1;32mdef\u001b[0m \u001b[0mprinting\u001b[0m\u001b[1;33m(\u001b[0m\u001b[0mself\u001b[0m\u001b[1;33m)\u001b[0m\u001b[1;33m:\u001b[0m\u001b[1;33m\u001b[0m\u001b[0m\n\u001b[1;32m----> 6\u001b[1;33m         \u001b[0mprint\u001b[0m\u001b[1;33m(\u001b[0m\u001b[0mself\u001b[0m\u001b[1;33m.\u001b[0m\u001b[0mname\u001b[0m\u001b[1;33m)\u001b[0m\u001b[1;33m\u001b[0m\u001b[0m\n\u001b[0m\u001b[0;32m      7\u001b[0m \u001b[0memp\u001b[0m\u001b[1;33m=\u001b[0m\u001b[0mEmployee\u001b[0m\u001b[1;33m(\u001b[0m\u001b[1;33m)\u001b[0m\u001b[1;33m\u001b[0m\u001b[0m\n\u001b[0;32m      8\u001b[0m \u001b[0memp\u001b[0m\u001b[1;33m.\u001b[0m\u001b[0mprinting\u001b[0m\u001b[1;33m(\u001b[0m\u001b[1;33m)\u001b[0m\u001b[1;31m#calling 2 method without 1st willbe in error\u001b[0m\u001b[1;33m\u001b[0m\u001b[0m\n",
      "\u001b[1;31mAttributeError\u001b[0m: 'Employee' object has no attribute 'name'"
     ]
    }
   ],
   "source": [
    "#init method\n",
    "class Employee:\n",
    "    def detail(self):    \n",
    "        self.name=\"siva\"\n",
    "    def printing(self):\n",
    "        print(self.name)\n",
    "emp=Employee()\n",
    "emp.printing()#calling 2 method without 1st willbe in error\n",
    "    "
   ]
  },
  {
   "cell_type": "code",
   "execution_count": 26,
   "metadata": {},
   "outputs": [
    {
     "name": "stdout",
     "output_type": "stream",
     "text": [
      "siva\n"
     ]
    }
   ],
   "source": [
    "#init method\n",
    "class Employee:\n",
    "    def __init__(self):    \n",
    "        self.name=\"siva\"\n",
    "    def printing(self):\n",
    "        print(self.name)\n",
    "emp=Employee()\n",
    "emp.printing()"
   ]
  },
  {
   "cell_type": "code",
   "execution_count": 28,
   "metadata": {},
   "outputs": [
    {
     "name": "stdout",
     "output_type": "stream",
     "text": [
      "siva\n",
      "guru\n"
     ]
    }
   ],
   "source": [
    "#input passing as argument\n",
    "class Employee:\n",
    "    def __init__(self,empname):    \n",
    "        self.name=empname\n",
    "    def printing(self):\n",
    "        print(self.name)\n",
    "emp=Employee(\"siva\")\n",
    "emp1=Employee(\"guru\")\n",
    "emp.printing()\n",
    "emp1.printing()"
   ]
  },
  {
   "cell_type": "code",
   "execution_count": 1,
   "metadata": {},
   "outputs": [
    {
     "name": "stdout",
     "output_type": "stream",
     "text": [
      "Enter the choice \n",
      "1.buying items\n",
      "2.returning items\n",
      "3.exit\n",
      "1\n",
      "horlicks\n",
      "boost\n",
      "bornvitta\n",
      "enter the name of the item\n",
      "boost\n",
      "5 is available\n",
      "enter the numbers\n",
      "5\n",
      "item is purchased\n",
      "item is not available\n",
      "Enter the choice \n",
      "1.buying items\n",
      "2.returning items\n",
      "3.exit\n",
      "1\n",
      "horlicks\n",
      "bornvitta\n",
      "enter the name of the item\n",
      "horlicks\n",
      "5 is available\n",
      "enter the numbers\n",
      "2\n",
      "item is purchased\n",
      "Enter the choice \n",
      "1.buying items\n",
      "2.returning items\n",
      "3.exit\n",
      "2\n",
      "enter the product to be return\n",
      "boost\n",
      "enter the numbers3\n",
      "item is added\n",
      "Enter the choice \n",
      "1.buying items\n",
      "2.returning items\n",
      "3.exit\n",
      "1\n",
      "horlicks\n",
      "bornvitta\n",
      "boost\n",
      "enter the name of the item\n",
      "bornvita\n"
     ]
    },
    {
     "ename": "KeyError",
     "evalue": "'bornvita'",
     "output_type": "error",
     "traceback": [
      "\u001b[1;31m---------------------------------------------------------------------------\u001b[0m",
      "\u001b[1;31mKeyError\u001b[0m                                  Traceback (most recent call last)",
      "\u001b[1;32m<ipython-input-1-f7bb3b5f8267>\u001b[0m in \u001b[0;36m<module>\u001b[1;34m()\u001b[0m\n\u001b[0;32m     38\u001b[0m     \u001b[0mchoice\u001b[0m\u001b[1;33m=\u001b[0m\u001b[0mint\u001b[0m\u001b[1;33m(\u001b[0m\u001b[0minput\u001b[0m\u001b[1;33m(\u001b[0m\u001b[1;33m)\u001b[0m\u001b[1;33m)\u001b[0m\u001b[1;33m\u001b[0m\u001b[0m\n\u001b[0;32m     39\u001b[0m     \u001b[1;32mif\u001b[0m \u001b[0mchoice\u001b[0m \u001b[1;32mis\u001b[0m \u001b[1;36m1\u001b[0m\u001b[1;33m:\u001b[0m\u001b[1;33m\u001b[0m\u001b[0m\n\u001b[1;32m---> 40\u001b[1;33m         \u001b[0mp1\u001b[0m\u001b[1;33m.\u001b[0m\u001b[0mdisplay\u001b[0m\u001b[1;33m(\u001b[0m\u001b[1;33m)\u001b[0m\u001b[1;33m\u001b[0m\u001b[0m\n\u001b[0m\u001b[0;32m     41\u001b[0m         \u001b[0mprint\u001b[0m\u001b[1;33m(\u001b[0m\u001b[1;34m\"enter the numbers\"\u001b[0m\u001b[1;33m)\u001b[0m\u001b[1;33m\u001b[0m\u001b[0m\n\u001b[0;32m     42\u001b[0m         \u001b[0mp1\u001b[0m\u001b[1;33m.\u001b[0m\u001b[0mrending\u001b[0m\u001b[1;33m(\u001b[0m\u001b[0mint\u001b[0m\u001b[1;33m(\u001b[0m\u001b[0minput\u001b[0m\u001b[1;33m(\u001b[0m\u001b[1;33m)\u001b[0m\u001b[1;33m)\u001b[0m\u001b[1;33m)\u001b[0m\u001b[1;33m\u001b[0m\u001b[0m\n",
      "\u001b[1;32m<ipython-input-1-f7bb3b5f8267>\u001b[0m in \u001b[0;36mdisplay\u001b[1;34m(self)\u001b[0m\n\u001b[0;32m      7\u001b[0m         \u001b[0mprint\u001b[0m\u001b[1;33m(\u001b[0m\u001b[1;34m\"enter the name of the item\"\u001b[0m\u001b[1;33m)\u001b[0m\u001b[1;33m\u001b[0m\u001b[0m\n\u001b[0;32m      8\u001b[0m         \u001b[0mself\u001b[0m\u001b[1;33m.\u001b[0m\u001b[0mproductname\u001b[0m\u001b[1;33m=\u001b[0m\u001b[0minput\u001b[0m\u001b[1;33m(\u001b[0m\u001b[1;33m)\u001b[0m\u001b[1;33m\u001b[0m\u001b[0m\n\u001b[1;32m----> 9\u001b[1;33m         \u001b[0mprint\u001b[0m\u001b[1;33m(\u001b[0m\u001b[1;34m\"{} is available\"\u001b[0m\u001b[1;33m.\u001b[0m\u001b[0mformat\u001b[0m\u001b[1;33m(\u001b[0m\u001b[0mself\u001b[0m\u001b[1;33m.\u001b[0m\u001b[0mproduct\u001b[0m\u001b[1;33m[\u001b[0m\u001b[0mself\u001b[0m\u001b[1;33m.\u001b[0m\u001b[0mproductname\u001b[0m\u001b[1;33m]\u001b[0m\u001b[1;33m)\u001b[0m\u001b[1;33m)\u001b[0m\u001b[1;33m\u001b[0m\u001b[0m\n\u001b[0m\u001b[0;32m     10\u001b[0m     \u001b[1;32mdef\u001b[0m \u001b[0mrending\u001b[0m\u001b[1;33m(\u001b[0m\u001b[0mself\u001b[0m\u001b[1;33m,\u001b[0m\u001b[0mnumber\u001b[0m\u001b[1;33m)\u001b[0m\u001b[1;33m:\u001b[0m\u001b[1;33m\u001b[0m\u001b[0m\n\u001b[0;32m     11\u001b[0m \u001b[1;33m\u001b[0m\u001b[0m\n",
      "\u001b[1;31mKeyError\u001b[0m: 'bornvita'"
     ]
    }
   ],
   "source": [
    "#abstraction and encapsulation\n",
    "class Market:\n",
    "    def __init__(self,product):\n",
    "        self.product=product\n",
    "    def display(self):\n",
    "        for x in self.product:\n",
    "            print(x)\n",
    "        print(\"enter the name of the item\")\n",
    "        self.productname=input()\n",
    "        print(\"{} is available\".format(self.product[self.productname]))\n",
    "    def rending(self,number):\n",
    "    \n",
    "        if self.product[self.productname]-number >= 0:\n",
    "            self.product[self.productname]-=number\n",
    "            print(\"item is purchased\")\n",
    "        elif self.product[self.productname]-number < 0 and self.product[self.productname]>0:\n",
    "            print(\"only {} items available\".format(self.product[self.productname]))\n",
    "        if self.product[self.productname]==0:    \n",
    "            del(self.product[self.productname])\n",
    "            print(\"item is not available\")\n",
    "    def adding(self,productname,number):\n",
    "        self.productname=productname\n",
    "        if self.productname in self.product:\n",
    "            self.product[self.productname]+=number\n",
    "        else:\n",
    "            self.product[self.productname]=number\n",
    "        print(\"item is added\")\n",
    "        \n",
    "class Buyer:\n",
    "    def buying():\n",
    "        pass\n",
    "    def returning(self):\n",
    "        print(\"enter the product to be return\")\n",
    "        return(input())\n",
    "p1=Market({\"horlicks\":5,\"boost\":5,\"bornvitta\":5})\n",
    "p2=Buyer()\n",
    "while True:\n",
    "    print(\"Enter the choice \\n1.buying items\\n2.returning items\\n3.exit\")\n",
    "    choice=int(input())\n",
    "    if choice is 1:\n",
    "        p1.display()\n",
    "        print(\"enter the numbers\")\n",
    "        p1.rending(int(input()))\n",
    "    elif choice is 2:\n",
    "        p1.adding(p2.returning(),int(input(\"enter the numbers\")))\n",
    "    elif choice is 3:\n",
    "       exit()\n"
   ]
  },
  {
   "cell_type": "code",
   "execution_count": 3,
   "metadata": {},
   "outputs": [
    {
     "name": "stdout",
     "output_type": "stream",
     "text": [
      "dividend = 10 \n",
      "divisor = 3 \n",
      "quatiant = 3 \n",
      "remainder =1\n"
     ]
    }
   ],
   "source": [
    "#inheritance single\n",
    "class Divide:\n",
    "    dividend=10\n",
    "    divisor=3\n",
    "    quatiant=dividend//divisor\n",
    "    remainder=dividend%divisor\n",
    "class Display(Divide):\n",
    "    def display(self):\n",
    "        print(\"dividend = {} \\ndivisor = {} \\nquatiant = {} \\nremainder ={}\".format(self.dividend,self.divisor,self.quatiant,self.remainder))\n",
    "dis=Display()\n",
    "dis.display()"
   ]
  },
  {
   "cell_type": "code",
   "execution_count": 5,
   "metadata": {},
   "outputs": [
    {
     "name": "stdout",
     "output_type": "stream",
     "text": [
      "30\n"
     ]
    }
   ],
   "source": [
    "#multiple iheritance\n",
    "class Num:\n",
    "    a=10\n",
    "class Number:\n",
    "    b=20\n",
    "class Add(Num,Number):\n",
    "    def add(self):\n",
    "        self.add=self.a+self.b\n",
    "        print(self.add)\n",
    "a=Add()\n",
    "a.add()\n",
    "    "
   ]
  },
  {
   "cell_type": "code",
   "execution_count": 11,
   "metadata": {},
   "outputs": [
    {
     "name": "stdout",
     "output_type": "stream",
     "text": [
      "30\n"
     ]
    }
   ],
   "source": [
    "#multilevel inheritance\n",
    "class A:\n",
    "    a=10\n",
    "class B(A):\n",
    "    b = 10\n",
    "    def __init__(self):\n",
    "        self.c= self.a + self.b\n",
    "class C(B):\n",
    "    s=10\n",
    "    def add(self):\n",
    "        print(self.s + self.c)\n",
    "c=C()\n",
    "c.add()"
   ]
  },
  {
   "cell_type": "code",
   "execution_count": 15,
   "metadata": {},
   "outputs": [
    {
     "name": "stdout",
     "output_type": "stream",
     "text": [
      "<bound method Sub.abc of <__main__.Sub object at 0x036ACEF0>>\n"
     ]
    },
    {
     "ename": "AttributeError",
     "evalue": "'Sub' object has no attribute '_abc'",
     "output_type": "error",
     "traceback": [
      "\u001b[1;31m---------------------------------------------------------------------------\u001b[0m",
      "\u001b[1;31mAttributeError\u001b[0m                            Traceback (most recent call last)",
      "\u001b[1;32m<ipython-input-15-b48f2e9d6bdf>\u001b[0m in \u001b[0;36m<module>\u001b[1;34m()\u001b[0m\n\u001b[0;32m     14\u001b[0m         \u001b[0mprint\u001b[0m\u001b[1;33m(\u001b[0m\u001b[0mself\u001b[0m\u001b[1;33m.\u001b[0m\u001b[0m__abc\u001b[0m\u001b[1;33m)\u001b[0m\u001b[1;33m\u001b[0m\u001b[0m\n\u001b[0;32m     15\u001b[0m \u001b[0ms\u001b[0m\u001b[1;33m=\u001b[0m\u001b[0mSub\u001b[0m\u001b[1;33m(\u001b[0m\u001b[1;33m)\u001b[0m\u001b[1;33m\u001b[0m\u001b[0m\n\u001b[1;32m---> 16\u001b[1;33m \u001b[0ms\u001b[0m\u001b[1;33m.\u001b[0m\u001b[0mabc\u001b[0m\u001b[1;33m(\u001b[0m\u001b[1;33m)\u001b[0m\u001b[1;33m\u001b[0m\u001b[0m\n\u001b[0m\u001b[0;32m     17\u001b[0m \u001b[1;33m\u001b[0m\u001b[0m\n",
      "\u001b[1;32m<ipython-input-15-b48f2e9d6bdf>\u001b[0m in \u001b[0;36mabc\u001b[1;34m(self)\u001b[0m\n\u001b[0;32m     11\u001b[0m     \u001b[1;32mdef\u001b[0m \u001b[0mabc\u001b[0m\u001b[1;33m(\u001b[0m\u001b[0mself\u001b[0m\u001b[1;33m)\u001b[0m\u001b[1;33m:\u001b[0m\u001b[1;33m\u001b[0m\u001b[0m\n\u001b[0;32m     12\u001b[0m         \u001b[0mprint\u001b[0m\u001b[1;33m(\u001b[0m\u001b[0mself\u001b[0m\u001b[1;33m.\u001b[0m\u001b[0mabc\u001b[0m\u001b[1;33m)\u001b[0m\u001b[1;33m\u001b[0m\u001b[0m\n\u001b[1;32m---> 13\u001b[1;33m         \u001b[0mprint\u001b[0m\u001b[1;33m(\u001b[0m\u001b[0mself\u001b[0m\u001b[1;33m.\u001b[0m\u001b[0m_abc\u001b[0m\u001b[1;33m)\u001b[0m\u001b[1;33m\u001b[0m\u001b[0m\n\u001b[0m\u001b[0;32m     14\u001b[0m         \u001b[0mprint\u001b[0m\u001b[1;33m(\u001b[0m\u001b[0mself\u001b[0m\u001b[1;33m.\u001b[0m\u001b[0m__abc\u001b[0m\u001b[1;33m)\u001b[0m\u001b[1;33m\u001b[0m\u001b[0m\n\u001b[0;32m     15\u001b[0m \u001b[0ms\u001b[0m\u001b[1;33m=\u001b[0m\u001b[0mSub\u001b[0m\u001b[1;33m(\u001b[0m\u001b[1;33m)\u001b[0m\u001b[1;33m\u001b[0m\u001b[0m\n",
      "\u001b[1;31mAttributeError\u001b[0m: 'Sub' object has no attribute '_abc'"
     ]
    }
   ],
   "source": [
    "#access spedifier\n",
    "#public= abc\n",
    "#protected = _abc\n",
    "#private=__abc\n",
    "class Access:\n",
    "    def __init__(self):\n",
    "        abc=10\n",
    "        _abc=20\n",
    "        __abc=30\n",
    "class Sub(Access):\n",
    "    def abc(self):\n",
    "        print(self.abc)\n",
    "        print(self._abc)#protected\n",
    "        print(self.__abc)#private\n",
    "s=Sub()\n",
    "s.abc()\n",
    "        "
   ]
  },
  {
   "cell_type": "code",
   "execution_count": 18,
   "metadata": {},
   "outputs": [
    {
     "name": "stdout",
     "output_type": "stream",
     "text": [
      "40\n",
      "50\n",
      "40\n"
     ]
    }
   ],
   "source": [
    "#polymorphism\n",
    "#overidding\n",
    "class Employee:\n",
    "    def workhr(self):\n",
    "        self.workhr=40\n",
    "    def display(self):\n",
    "        print(self.workhr)\n",
    "class Trianee(Employee):\n",
    "    def workhr(self):\n",
    "        self.workhr=50\n",
    "    def set_derived_class_as_base_class_value(self):\n",
    "        super().workhr()\n",
    "emp=Employee()\n",
    "trn=Trianee()\n",
    "emp.workhr()\n",
    "emp.display()\n",
    "trn.workhr()\n",
    "trn.display()\n",
    "trn.set_derived_class_as_base_class_value()\n",
    "trn.display()\n",
    "    "
   ]
  },
  {
   "cell_type": "code",
   "execution_count": 20,
   "metadata": {},
   "outputs": [
    {
     "name": "stdout",
     "output_type": "stream",
     "text": [
      "1\n",
      "1\n",
      "sum of area  =  6.28\n"
     ]
    }
   ],
   "source": [
    "#operater overloading\n",
    "class Area:\n",
    "    def __init__(self,radius):\n",
    "        self.a=radius\n",
    "    def __add__(a1,a2):\n",
    "        return(3.14*(a1.a*a1.a+a2.a*a2.a))\n",
    "\n",
    "a1=Area(int(input()))\n",
    "a2=Area(int(input()))\n",
    "print(\"sum of area  = \",a1+a2)\n",
    "\n"
   ]
  },
  {
   "cell_type": "code",
   "execution_count": 24,
   "metadata": {},
   "outputs": [
    {
     "name": "stdout",
     "output_type": "stream",
     "text": [
      "area of rectangle 200\n",
      "area of square 100\n"
     ]
    }
   ],
   "source": [
    "#abstract class- all classes must use the methods of this class\n",
    "from abc import ABCMeta , abstractmethod\n",
    "class Shape(metaclass=ABCMeta):\n",
    "    @abstractmethod\n",
    "    def area(self):\n",
    "        return 0\n",
    "class Rectangle(Shape):\n",
    "    length=10\n",
    "    width=20\n",
    "    def area(self):\n",
    "        print(\"area of rectangle\",self.length*self.width)\n",
    "class Square(Shape):\n",
    "    side=10\n",
    "    def area(self):\n",
    "        print(\"area of square\",self.side*self.side)\n",
    "a=Rectangle()\n",
    "b=Square()\n",
    "a.area()\n",
    "b.area()"
   ]
  },
  {
   "cell_type": "code",
   "execution_count": 26,
   "metadata": {},
   "outputs": [
    {
     "name": "stdout",
     "output_type": "stream",
     "text": [
      "match found\n",
      "match not found\n"
     ]
    }
   ],
   "source": [
    "#regular expression\n",
    "import re\n",
    "pattern= r\"abcd\"\n",
    "if re.match(pattern,\"abcdabcdabcd\"):\n",
    "    print (\"match found\")\n",
    "else : print(\"match not found\")\n",
    "if re.match(pattern,\"ghjakkmmefghijklmn\"):\n",
    "    print (\"match found\")\n",
    "else :\n",
    "    print (\"match not found\")"
   ]
  },
  {
   "cell_type": "code",
   "execution_count": null,
   "metadata": {},
   "outputs": [],
   "source": []
  }
 ],
 "metadata": {
  "kernelspec": {
   "display_name": "Python 3",
   "language": "python",
   "name": "python3"
  },
  "language_info": {
   "codemirror_mode": {
    "name": "ipython",
    "version": 3
   },
   "file_extension": ".py",
   "mimetype": "text/x-python",
   "name": "python",
   "nbconvert_exporter": "python",
   "pygments_lexer": "ipython3",
   "version": "3.6.5"
  }
 },
 "nbformat": 4,
 "nbformat_minor": 2
}
